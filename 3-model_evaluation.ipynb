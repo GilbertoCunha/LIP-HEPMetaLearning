{
 "cells": [
  {
   "cell_type": "code",
   "execution_count": 1,
   "metadata": {},
   "outputs": [],
   "source": [
    "%config InlineBackend.figure_format = \"svg\"\n",
    "\n",
    "from meta import get_class_weights, Meta, to_numpy\n",
    "from fitting import get_model, get_model_name\n",
    "from sklearn.metrics import roc_auc_score\n",
    "from dataprocessing import generate_tasks\n",
    "from torch.nn import functional as F\n",
    "import matplotlib.pyplot as plt\n",
    "from tqdm.notebook import tqdm\n",
    "import pandas as pd\n",
    "import numpy as np\n",
    "import pickle\n",
    "import torch\n",
    "import glob"
   ]
  },
  {
   "cell_type": "markdown",
   "metadata": {},
   "source": [
    "# Load the model"
   ]
  },
  {
   "cell_type": "code",
   "execution_count": 2,
   "metadata": {},
   "outputs": [],
   "source": [
    "def fetch_model(filepath):\n",
    "    \n",
    "    # Model architecture\n",
    "    filename = filepath.split(\"/\")[-1]\n",
    "    name = filename[:-3]\n",
    "    dropout = float(name[name.find(\"D\")+len(\"D\"):name.find(\"D\")+5])\n",
    "    sup_shots = int(name[name.find(\"K\")+len(\"K\"):name.rfind(\"Q\")])\n",
    "    que_shots = int(name[name.find(\"Q\")+len(\"Q\"):name.rfind(\"-H\")])\n",
    "    hidden_layers = name.split(\"F\")[1:]\n",
    "    hidden_layers = [int(hl) for hl in hidden_layers]\n",
    "\n",
    "    # Arguments to create model\n",
    "    config = get_model(hidden_layers, dropout)\n",
    "    device = torch.device('cuda') if torch.cuda.is_available() else torch.device('cpu')\n",
    "\n",
    "    # Choose PyTorch device and load the model\n",
    "    model = Meta(name, config, sup_shots, que_shots, device).to(device)\n",
    "    model.load(filepath)\n",
    "    \n",
    "    return model"
   ]
  },
  {
   "cell_type": "markdown",
   "metadata": {},
   "source": [
    "# Load the data"
   ]
  },
  {
   "cell_type": "code",
   "execution_count": 3,
   "metadata": {},
   "outputs": [],
   "source": [
    "# Datapath and background file for data-files\n",
    "datapath = \"processed-data/\"\n",
    "bkg_file = datapath + \"bkg.h5\"\n",
    "\n",
    "# Signal files for each task split\n",
    "val_signals = [\"hg3000_hq1200\", \"wohg_hq1000\"]\n",
    "test_signals = [\"wohg_hq1400\", \"fcnc\"]\n",
    "\n",
    "# Add datapath and extention to files for each split\n",
    "val_signals = [datapath + p + \".h5\" for p in val_signals]\n",
    "test_signals = [datapath + p + \".h5\" for p in test_signals]"
   ]
  },
  {
   "cell_type": "markdown",
   "metadata": {},
   "source": [
    "# Get metrics on the test data"
   ]
  },
  {
   "cell_type": "code",
   "execution_count": 7,
   "metadata": {},
   "outputs": [],
   "source": [
    "def get_metrics(model, sup_task, que_task, total_steps):\n",
    "    # Get total steps\n",
    "    # total_steps = len(list(que_task[\"data\"]))\n",
    "    \n",
    "    # Iterate the whole query dataloader\n",
    "    roc_steps = 0\n",
    "    columns = que_task[\"columns\"]\n",
    "    metrics = {\"roc\": 0, \"acc\": 0, \"loss\": 0, \"preds\": {\"bkg\": [], \"signal\": []}}\n",
    "    for _ in tqdm(range(total_steps), total=total_steps, desc=\"Iterating task loader\", leave=False):\n",
    "        \n",
    "        # Get support and query samples from task\n",
    "        x_sup, w_sup, y_sup = next(sup_task[\"data\"])\n",
    "        sup_weights = get_class_weights(sup_task[\"weights\"], y_sup)\n",
    "        x_que, w_que, y_que = next(que_task[\"data\"])\n",
    "        que_weights = get_class_weights(que_task[\"weights\"], y_que)\n",
    "        \n",
    "        # Add data to dictionary to append in metrics df\n",
    "        assert len(columns) == len(x_que[0].tolist()), f\"Cols: {len(columns)} | x_que: {x_que.shape}\"\n",
    "        if \"data\" not in metrics:\n",
    "            metrics[\"data\"] = pd.DataFrame(columns=columns)\n",
    "        new_data = {column: [x for x in x_que[:, i]] for i, column in zip(range(len(columns)), columns)}\n",
    "        new_data[\"weights\"] = [w for w in w_que.tolist()]\n",
    "        new_data[\"labels\"] = [y for y in y_que.tolist()]\n",
    "\n",
    "        # Normalize weights\n",
    "        w_sup = w_sup / w_sup.sum() * w_sup.shape[0]\n",
    "        w_que = w_que / w_que.sum() * w_que.shape[0]\n",
    "        \n",
    "        # Model prediction\n",
    "        y_hat = model.predict(x_sup, w_sup, y_sup, x_que, sup_weights)\n",
    "        \n",
    "        # Get roc (try except if only one class is present in sample)\n",
    "        try:\n",
    "            metrics[\"roc\"] += roc_auc_score(to_numpy(y_que), to_numpy(y_hat.round()), sample_weight=to_numpy(w_que))\n",
    "            roc_steps += 1\n",
    "        except:\n",
    "            pass\n",
    "        \n",
    "        # Get accuracy and loss\n",
    "        metrics[\"acc\"] += (torch.eq(y_hat.round(), y_que) * w_que).sum().item() / y_hat.shape[0]\n",
    "        metrics[\"loss\"] += (F.binary_cross_entropy(y_hat, y_que, reduction=\"none\") * w_que * que_weights).mean().item()\n",
    "        \n",
    "        # Get prediction values for signal and background\n",
    "        metrics[\"preds\"][\"bkg\"] += y_hat[torch.where(y_que == 0)].tolist()\n",
    "        metrics[\"preds\"][\"signal\"] += y_hat[torch.where(y_que == 1)].tolist()\n",
    "        \n",
    "        # Add new data to dataframe\n",
    "        new_data[\"prediction\"] = [y for y in y_hat.round().tolist()]\n",
    "        metrics[\"data\"] = pd.concat([metrics[\"data\"], pd.DataFrame(new_data)], ignore_index=True)\n",
    "        \n",
    "    # Average the metrics\n",
    "    metrics[\"acc\"] /= total_steps\n",
    "    metrics[\"loss\"] /= total_steps\n",
    "    metrics[\"roc\"] /= roc_steps\n",
    "    \n",
    "    # Convert lists to numpy\n",
    "    metrics[\"preds\"][\"bkg\"] = np.array(metrics[\"preds\"][\"bkg\"])\n",
    "    metrics[\"preds\"][\"signal\"] = np.array(metrics[\"preds\"][\"signal\"])\n",
    "    \n",
    "    # Normalize weights \n",
    "    assert len(metrics[\"data\"]) != 0, \"DataFrame not populated!\"\n",
    "    # metrics[\"data\"][\"weights\"] = metrics[\"data\"][\"weights\"] /\n",
    "    \n",
    "    return metrics"
   ]
  },
  {
   "cell_type": "code",
   "execution_count": null,
   "metadata": {},
   "outputs": [
    {
     "data": {
      "application/vnd.jupyter.widget-view+json": {
       "model_id": "6c153d1265d84c4d846f867835317c81",
       "version_major": 2,
       "version_minor": 0
      },
      "text/plain": [
       "HBox(children=(FloatProgress(value=0.0, description='Iterating number of shots', max=7.0, style=ProgressStyle(…"
      ]
     },
     "metadata": {},
     "output_type": "display_data"
    },
    {
     "data": {
      "application/vnd.jupyter.widget-view+json": {
       "model_id": "",
       "version_major": 2,
       "version_minor": 0
      },
      "text/plain": [
       "HBox(children=(FloatProgress(value=0.0, description='Populating tasks', max=2.0, style=ProgressStyle(descripti…"
      ]
     },
     "metadata": {},
     "output_type": "display_data"
    },
    {
     "data": {
      "application/vnd.jupyter.widget-view+json": {
       "model_id": "10d146aea15e400d874270939e85dee7",
       "version_major": 2,
       "version_minor": 0
      },
      "text/plain": [
       "HBox(children=(FloatProgress(value=0.0, description='Iterating models', max=8.0, style=ProgressStyle(descripti…"
      ]
     },
     "metadata": {},
     "output_type": "display_data"
    },
    {
     "data": {
      "application/vnd.jupyter.widget-view+json": {
       "model_id": "a8efd46a0d25411984d612d8a18f37d7",
       "version_major": 2,
       "version_minor": 0
      },
      "text/plain": [
       "HBox(children=(FloatProgress(value=0.0, description='Iterating tasks', max=2.0, style=ProgressStyle(descriptio…"
      ]
     },
     "metadata": {},
     "output_type": "display_data"
    },
    {
     "data": {
      "application/vnd.jupyter.widget-view+json": {
       "model_id": "51d60a4a5a0b4da5b6b7d8e147ff6691",
       "version_major": 2,
       "version_minor": 0
      },
      "text/plain": [
       "HBox(children=(FloatProgress(value=0.0, description='Iterating task loader', max=10000.0, style=ProgressStyle(…"
      ]
     },
     "metadata": {},
     "output_type": "display_data"
    }
   ],
   "source": [
    "# Defining arguments for metric retrieval\n",
    "sup_shots_list = [5, 10, 25, 50, 100, 250, 500]\n",
    "que_shots_list = [2 * sup_shots for sup_shots in sup_shots_list]\n",
    "total_samples = 50000\n",
    "\n",
    "# Initializations\n",
    "metrics = {}\n",
    "model_paths = list(glob.glob(\"models/*.pt\"))\n",
    "shots_list = zip(sup_shots_list, que_shots_list)\n",
    "    \n",
    "# Iterate all number of support and query shots to evaluate from\n",
    "for sup_shots, que_shots in tqdm(shots_list, total=len(sup_shots_list), desc=\"Iterating number of shots\"):\n",
    "\n",
    "    # Generate tasks\n",
    "    # val_tasks = generate_tasks(val_signals, bkg_file, sup_shots, que_shots)\n",
    "    test_tasks = generate_tasks(test_signals, bkg_file, sup_shots, que_shots)\n",
    "\n",
    "    # Add entry to metrics\n",
    "    shot_name = f\"{sup_shots}/{que_shots}\"\n",
    "    metrics[shot_name] = {}\n",
    "        \n",
    "        # Iterate all models\n",
    "    for model_path in tqdm(model_paths, total=len(model_paths), desc=\"Iterating models\", leave=False):\n",
    "\n",
    "        # Fetch model\n",
    "        model = fetch_model(model_path)\n",
    "        model_name = f\"{model.k_sup}/{model.k_que}\"\n",
    "\n",
    "        # Add entry to metrics dict\n",
    "        metrics[shot_name][model_name] = {}\n",
    "\n",
    "        # Iterate all test signals\n",
    "        for signal in tqdm(test_tasks, total=len(test_tasks), desc=\"Iterating tasks\", leave=False):\n",
    "\n",
    "            # Get support sample\n",
    "            sup_task, que_task = test_tasks[signal][\"sup\"], test_tasks[signal][\"que\"]\n",
    "            x_sup, w_sup, y_sup = next(sup_task[\"data\"])\n",
    "            sup_weights = get_class_weights(sup_task[\"weights\"], y_sup)\n",
    "\n",
    "            # Get metrics for this models, shot and task\n",
    "            total_steps = total_samples // sup_shots\n",
    "            metrics[shot_name][model_name][signal] = get_metrics(model, sup_task, que_task, total_steps)"
   ]
  },
  {
   "cell_type": "markdown",
   "metadata": {},
   "source": [
    "## Save the metrics"
   ]
  },
  {
   "cell_type": "markdown",
   "metadata": {},
   "source": [
    "Just as a safeguard not to lose them. Metric calculation takes a while."
   ]
  },
  {
   "cell_type": "code",
   "execution_count": null,
   "metadata": {},
   "outputs": [],
   "source": [
    "def save_metrics(data, path):\n",
    "    with open(path, \"wb\") as f:\n",
    "        pickle.dump(data, f)\n",
    "        \n",
    "def load_metrics(path):\n",
    "    with open(path, \"rb\") as f:\n",
    "        return pickle.load(f)"
   ]
  },
  {
   "cell_type": "code",
   "execution_count": null,
   "metadata": {},
   "outputs": [],
   "source": [
    "save_metrics(metrics, \"metric_results.pickle\")"
   ]
  },
  {
   "cell_type": "markdown",
   "metadata": {},
   "source": [
    "## Plot the obtained metrics"
   ]
  },
  {
   "cell_type": "code",
   "execution_count": null,
   "metadata": {},
   "outputs": [],
   "source": [
    "def plot_mm(data, metric=\"roc\", signal=\"fcnc\"):\n",
    "    \n",
    "    # Get list of shots and models\n",
    "    key = lambda string: int(string.split(\"/\")[0])\n",
    "    shots = sorted([key for key in data], key=key)\n",
    "    models = sorted([key for key in data[shots[0]]], key=key)\n",
    "    \n",
    "    # Check if arguments are correct\n",
    "    signals = [key for key in data[shots[0]][models[0]]]\n",
    "    metrics = [key for key in data[shots[0]][models[0]][signals[0]]]\n",
    "    if metric not in metrics:\n",
    "        print(f\"Choose a valid metric. Options are: {metrics}\")\n",
    "        return\n",
    "    elif signal not in signals:\n",
    "        print(f\"Choose a valid signal. Options are: {signals}\")\n",
    "        return\n",
    "    \n",
    "    # Matrix of metrics\n",
    "    matrix = [[data[shot][model][signal][metric] for model in models] for shot in shots]\n",
    "    matrix = np.array(matrix)\n",
    "    \n",
    "    # Create figure and image\n",
    "    fig, ax = plt.subplots(figsize=(8, 8))\n",
    "    ax.set_title(f\"{metric} evaluation on {signal} signal\")\n",
    "    ax.imshow(matrix, cmap=\"Reds\")\n",
    "    ax.set_xlabel(\"Model Sup/Query training shots\")\n",
    "    ax.set_ylabel(\"Sup/Query evaluation shots\")\n",
    "\n",
    "    # Create ticks\n",
    "    ax.set_xticks(np.arange(len(models)))\n",
    "    ax.set_yticks(np.arange(len(shots)))\n",
    "    ax.set_xticklabels(models)\n",
    "    ax.set_yticklabels(shots)\n",
    "\n",
    "    # Loop over data dimensions and create text annotations.\n",
    "    for i in range(len(shots)):\n",
    "        for j in range(len(models)):\n",
    "            text = ax.text(j, i, f\"{matrix[i, j]:.4f}\", ha=\"center\", va=\"center\", color=\"black\")\n",
    "\n",
    "    # Plot\n",
    "    fig.tight_layout()\n",
    "    plt.show()"
   ]
  },
  {
   "cell_type": "code",
   "execution_count": null,
   "metadata": {},
   "outputs": [],
   "source": [
    "# Load metrics\n",
    "metrics = load_metrics(\"metric_results.pickle\")"
   ]
  },
  {
   "cell_type": "code",
   "execution_count": null,
   "metadata": {},
   "outputs": [],
   "source": [
    "# Plot from the metrics dictionary\n",
    "plot_mm(metrics, metric=\"roc\", signal=\"fcnc\")"
   ]
  },
  {
   "cell_type": "code",
   "execution_count": null,
   "metadata": {},
   "outputs": [],
   "source": [
    "metrics"
   ]
  },
  {
   "cell_type": "markdown",
   "metadata": {},
   "source": [
    "## Signal vs Background threshold distributions"
   ]
  },
  {
   "cell_type": "code",
   "execution_count": null,
   "metadata": {},
   "outputs": [],
   "source": [
    "def plot_threshold_distributions(data, signal=\"fcnc\", bins=50, scale=\"linear\"):\n",
    "    # Get list of shots and models\n",
    "    key = lambda string: int(string.split(\"/\")[0])\n",
    "    shots = sorted([key for key in data], key=key)\n",
    "    models = sorted([key for key in data[shots[0]]], key=key)\n",
    "    \n",
    "    # Check if arguments are correct\n",
    "    signals = [key for key in data[shots[0]][models[0]]]\n",
    "    if signal not in signals:\n",
    "        print(f\"Choose a valid signal. Options are: {signals}\")\n",
    "        return\n",
    "\n",
    "    # Number of rows and columns\n",
    "    rows = len(shots)\n",
    "    columns = len(models)\n",
    "\n",
    "    # Create axis\n",
    "    fig, axs = plt.subplots(rows, columns, figsize=(35, 25))\n",
    "\n",
    "    # Iterate list of shots\n",
    "    for i, shot in enumerate(shots):\n",
    "        for j, model in enumerate(models):\n",
    "            axs[i, j].set_title(f\"S: {shot} | M: {model} | {signal}\")\n",
    "            axs[i, j].hist(data[shot][model][signal][\"preds\"][\"bkg\"], bins=bins, range=(0,1), \n",
    "                           histtype=\"step\", density=True, label=\"bkg\")\n",
    "            axs[i, j].hist(data[shot][model][signal][\"preds\"][\"signal\"], bins=bins, range=(0,1), \n",
    "                           histtype=\"step\", density=True, label=\"signal\")\n",
    "            axs[i, j].set_yscale(scale)\n",
    "            axs[i, j].legend()\n",
    "    plt.show()"
   ]
  },
  {
   "cell_type": "code",
   "execution_count": null,
   "metadata": {},
   "outputs": [],
   "source": [
    "plot_threshold_distributions(metrics, scale=\"log\", signal=\"fcnc\")"
   ]
  },
  {
   "cell_type": "markdown",
   "metadata": {},
   "source": [
    "## Plot feature distributions"
   ]
  },
  {
   "cell_type": "code",
   "execution_count": null,
   "metadata": {},
   "outputs": [],
   "source": [
    "def plot_feature_distributions(data, shot=\"250/500\", model=\"25/50\", signal=\"fcnc\", label=\"signal\", num_cols=5, bins=50):\n",
    "    # Get list of shots and models\n",
    "    shots = [s for s in data]\n",
    "    models = [m for m in data[shots[0]]]\n",
    "    signals = [s for s in data[shots[0]][models[0]]]\n",
    "    labels = [\"bkg\", \"signal\"]\n",
    "    \n",
    "    # Check arguments\n",
    "    if shot not in shots:\n",
    "        print(f\"Choose a valid shot setting. Options are: {shots}\")\n",
    "        return\n",
    "    if model not in models:\n",
    "        print(f\"Choose a valid model. Options are: {models}\")\n",
    "        return\n",
    "    if signal not in signals:\n",
    "        print(f\"Choose a valid signal. Options are: {signals}\")\n",
    "        return\n",
    "    if label not in labels:\n",
    "        print(f\"Choose a valid label. Options are: {labels}\")\n",
    "        return\n",
    "    \n",
    "    # Turn label into class\n",
    "    label = 0 if (label == \"bkg\") else 1\n",
    "    \n",
    "    # Get selected dataframe\n",
    "    df = data[shot][model][signal][\"data\"]\n",
    "    \n",
    "    # Create figure and axis\n",
    "    num_rows = int(np.ceil((len(list(df)) - 2) / num_cols))\n",
    "    fig, axs = plt.subplots(num_rows, num_cols, figsize=(40, 60))\n",
    "    \n",
    "    # Iterate and plot the data\n",
    "    for i, column in tqdm(enumerate(df), total=len(list(df)), desc=\"Plotting\"):\n",
    "            # Define histogram range\n",
    "            hist_min = min(df[df[\"labels\"] == label][column].min(), df[df[\"predictions\"] == label][column].min())\n",
    "            hist_max = max(df[df[\"labels\"] == label][column].max(), df[df[\"predictions\"] == label][column].max())\n",
    "            hist_range = (hist_min, hist_max)\n",
    "\n",
    "            # Plot data\n",
    "            row, col = int(i/num_cols), i%num_cols\n",
    "            axs[row, col].set_title(df.columns[i])\n",
    "            axs[row, col].hist(df[df[\"labels\"] == label][column], bins=bins, label=\"true bkgd\", range=hist_range,\n",
    "                               weights=df[df[\"labels\"] == label][\"weights\"], histtype='step')\n",
    "            axs[row, col].hist(df[df[\"prediction\"] == label][column], bins=bins, label=\"pred bkgd\", range=hist_range,\n",
    "                               weights=df[df[\"prediction\"] == label][\"weights\"], histtype='step')\n",
    "            axs[row, col].set_yscale(\"log\")\n",
    "            axs[row, col].legend()\n",
    "            \n",
    "    plt.show()"
   ]
  },
  {
   "cell_type": "code",
   "execution_count": null,
   "metadata": {},
   "outputs": [],
   "source": [
    "plot_feature_distributions(metrics)"
   ]
  },
  {
   "cell_type": "code",
   "execution_count": null,
   "metadata": {},
   "outputs": [],
   "source": []
  }
 ],
 "metadata": {
  "interpreter": {
   "hash": "6f5ff148e73835ca4fa28de0f0a60b6e4be9e22106b47c94548bad0fe3aa25f7"
  },
  "kernelspec": {
   "display_name": "Python 3",
   "language": "python",
   "name": "python3"
  },
  "language_info": {
   "codemirror_mode": {
    "name": "ipython",
    "version": 3
   },
   "file_extension": ".py",
   "mimetype": "text/x-python",
   "name": "python",
   "nbconvert_exporter": "python",
   "pygments_lexer": "ipython3",
   "version": "3.8.3"
  }
 },
 "nbformat": 4,
 "nbformat_minor": 4
}
